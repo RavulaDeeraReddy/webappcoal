{
  "cells": [
    {
      "cell_type": "code",
      "execution_count": 3,
      "metadata": {
        "id": "3rKSWmwE9rJy"
      },
      "outputs": [],
      "source": [
        "from keras.models import Sequential\n",
        "from keras.layers import Convolution2D, Flatten, Dense, MaxPooling2D\n",
        "from keras.preprocessing.image import ImageDataGenerator"
      ]
    },
    {
      "cell_type": "code",
      "execution_count": 4,
      "metadata": {
        "id": "4qy20rmx-HO-"
      },
      "outputs": [],
      "source": [
        "train_datagen=ImageDataGenerator(horizontal_flip=True,rescale=1./255,zoom_range=0.2)"
      ]
    },
    {
      "cell_type": "code",
      "execution_count": 5,
      "metadata": {
        "id": "qXxVtk-W9tX2"
      },
      "outputs": [],
      "source": [
        "test_datagen=ImageDataGenerator(rescale=1./255)"
      ]
    },
    {
      "cell_type": "code",
      "source": [
        "from google.colab import drive\n",
        "drive.mount('/content/drive')"
      ],
      "metadata": {
        "colab": {
          "base_uri": "https://localhost:8080/"
        },
        "id": "Tv2i-8oIWnSn",
        "outputId": "c1bae5d2-0459-4f6b-905a-9532854ec1e4"
      },
      "execution_count": 6,
      "outputs": [
        {
          "output_type": "stream",
          "name": "stdout",
          "text": [
            "Mounted at /content/drive\n"
          ]
        }
      ]
    },
    {
      "cell_type": "code",
      "execution_count": 7,
      "metadata": {
        "colab": {
          "base_uri": "https://localhost:8080/"
        },
        "id": "azoZ3nmE9tUe",
        "outputId": "5a52e9f9-e255-4434-970b-c263aefaa72f"
      },
      "outputs": [
        {
          "output_type": "stream",
          "name": "stdout",
          "text": [
            "Found 351 images belonging to 4 classes.\n"
          ]
        }
      ],
      "source": [
        "X_train=train_datagen.flow_from_directory(\"/content/drive/MyDrive/Coal Classification/\",target_size=(128,128),class_mode='categorical',batch_size=4)"
      ]
    },
    {
      "cell_type": "code",
      "execution_count": 8,
      "metadata": {
        "colab": {
          "base_uri": "https://localhost:8080/"
        },
        "id": "Y-8lT-x19tR0",
        "outputId": "7965f567-cbb5-49c5-96b9-1fa9833dcb74"
      },
      "outputs": [
        {
          "output_type": "stream",
          "name": "stdout",
          "text": [
            "Found 351 images belonging to 4 classes.\n"
          ]
        }
      ],
      "source": [
        "X_test=test_datagen.flow_from_directory(\"/content/drive/MyDrive/Coal Classification/\",target_size=(128,128),class_mode='categorical',batch_size=4)"
      ]
    },
    {
      "cell_type": "code",
      "execution_count": 9,
      "metadata": {
        "id": "21nE7AOD9tNn"
      },
      "outputs": [],
      "source": [
        "from tensorflow.keras.models import Sequential\n",
        "from tensorflow.keras.layers import Dense\n",
        "from tensorflow.keras.layers import Convolution2D\n",
        "from tensorflow.keras.layers import MaxPooling2D\n",
        "from tensorflow.keras.layers import Flatten\n",
        "from tensorflow.keras.optimizers import Adam"
      ]
    },
    {
      "cell_type": "code",
      "execution_count": 10,
      "metadata": {
        "id": "IfL_bBdQ9tKP"
      },
      "outputs": [],
      "source": [
        "#initialising the model\n",
        "model=Sequential()"
      ]
    },
    {
      "cell_type": "code",
      "execution_count": 11,
      "metadata": {
        "id": "389G-_9d9tH7"
      },
      "outputs": [],
      "source": [
        "#adding the cnn\n",
        "model.add(Convolution2D(32,(3,3),input_shape=(128,128,3),activation='relu'))"
      ]
    },
    {
      "cell_type": "code",
      "execution_count": 12,
      "metadata": {
        "id": "t6aw-GZ99tFX"
      },
      "outputs": [],
      "source": [
        "model.add(MaxPooling2D(pool_size=(2,2)))"
      ]
    },
    {
      "cell_type": "code",
      "execution_count": 13,
      "metadata": {
        "id": "vE6qKDzb9tCq"
      },
      "outputs": [],
      "source": [
        "model.add(Convolution2D(32,(3,3),activation='relu'))"
      ]
    },
    {
      "cell_type": "code",
      "execution_count": 14,
      "metadata": {
        "id": "Z85FPI6x9s_x"
      },
      "outputs": [],
      "source": [
        "model.add(MaxPooling2D(pool_size=(2,2)))"
      ]
    },
    {
      "cell_type": "code",
      "execution_count": 15,
      "metadata": {
        "id": "AolQPwMz9s04"
      },
      "outputs": [],
      "source": [
        "model.add(Flatten())"
      ]
    },
    {
      "cell_type": "code",
      "execution_count": 16,
      "metadata": {
        "colab": {
          "base_uri": "https://localhost:8080/"
        },
        "id": "1uQ0H6_K99XK",
        "outputId": "0f4c2f30-4488-49a1-8e74-cf15046f74fe"
      },
      "outputs": [
        {
          "output_type": "stream",
          "name": "stdout",
          "text": [
            "Model: \"sequential\"\n",
            "_________________________________________________________________\n",
            " Layer (type)                Output Shape              Param #   \n",
            "=================================================================\n",
            " conv2d (Conv2D)             (None, 126, 126, 32)      896       \n",
            "                                                                 \n",
            " max_pooling2d (MaxPooling2D  (None, 63, 63, 32)       0         \n",
            " )                                                               \n",
            "                                                                 \n",
            " conv2d_1 (Conv2D)           (None, 61, 61, 32)        9248      \n",
            "                                                                 \n",
            " max_pooling2d_1 (MaxPooling  (None, 30, 30, 32)       0         \n",
            " 2D)                                                             \n",
            "                                                                 \n",
            " flatten (Flatten)           (None, 28800)             0         \n",
            "                                                                 \n",
            "=================================================================\n",
            "Total params: 10,144\n",
            "Trainable params: 10,144\n",
            "Non-trainable params: 0\n",
            "_________________________________________________________________\n"
          ]
        }
      ],
      "source": [
        "model.summary()"
      ]
    },
    {
      "cell_type": "code",
      "execution_count": 17,
      "metadata": {
        "colab": {
          "base_uri": "https://localhost:8080/"
        },
        "id": "Dz-c4dA_-C_F",
        "outputId": "5bc31978-7349-4906-9e41-a6dff9e12ca7"
      },
      "outputs": [
        {
          "output_type": "stream",
          "name": "stdout",
          "text": [
            "Model: \"sequential\"\n",
            "_________________________________________________________________\n",
            " Layer (type)                Output Shape              Param #   \n",
            "=================================================================\n",
            " conv2d (Conv2D)             (None, 126, 126, 32)      896       \n",
            "                                                                 \n",
            " max_pooling2d (MaxPooling2D  (None, 63, 63, 32)       0         \n",
            " )                                                               \n",
            "                                                                 \n",
            " conv2d_1 (Conv2D)           (None, 61, 61, 32)        9248      \n",
            "                                                                 \n",
            " max_pooling2d_1 (MaxPooling  (None, 30, 30, 32)       0         \n",
            " 2D)                                                             \n",
            "                                                                 \n",
            " flatten (Flatten)           (None, 28800)             0         \n",
            "                                                                 \n",
            " dense (Dense)               (None, 300)               8640300   \n",
            "                                                                 \n",
            " dense_1 (Dense)             (None, 150)               45150     \n",
            "                                                                 \n",
            " dense_2 (Dense)             (None, 4)                 604       \n",
            "                                                                 \n",
            "=================================================================\n",
            "Total params: 8,696,198\n",
            "Trainable params: 8,696,198\n",
            "Non-trainable params: 0\n",
            "_________________________________________________________________\n"
          ]
        }
      ],
      "source": [
        "#denser layers\n",
        "model.add(Dense(300,activation='relu'))\n",
        "model.add(Dense(150,activation='relu'))\n",
        "model.add(Dense(4,activation='softmax'))\n",
        "model.summary()"
      ]
    },
    {
      "cell_type": "code",
      "execution_count": 18,
      "metadata": {
        "id": "YSdbtck2-dRD"
      },
      "outputs": [],
      "source": [
        "model.compile(optimizer=\"adam\",loss=\"categorical_crossentropy\", metrics=['accuracy'])"
      ]
    },
    {
      "cell_type": "code",
      "execution_count": 19,
      "metadata": {
        "colab": {
          "base_uri": "https://localhost:8080/"
        },
        "id": "1CoL3bs8-rWO",
        "outputId": "394e051d-cf7c-4847-e0de-c0d962a344af"
      },
      "outputs": [
        {
          "output_type": "stream",
          "name": "stderr",
          "text": [
            "<ipython-input-19-7ba4333ebd5e>:2: UserWarning: `Model.fit_generator` is deprecated and will be removed in a future version. Please use `Model.fit`, which supports generators.\n",
            "  model.fit_generator(X_train,validation_data=X_test,epochs=30)\n"
          ]
        },
        {
          "output_type": "stream",
          "name": "stdout",
          "text": [
            "Epoch 1/30\n",
            "88/88 [==============================] - 82s 912ms/step - loss: 1.6028 - accuracy: 0.2735 - val_loss: 1.3175 - val_accuracy: 0.3647\n",
            "Epoch 2/30\n",
            "88/88 [==============================] - 29s 332ms/step - loss: 1.3409 - accuracy: 0.3305 - val_loss: 1.3241 - val_accuracy: 0.4046\n",
            "Epoch 3/30\n",
            "88/88 [==============================] - 29s 331ms/step - loss: 1.3244 - accuracy: 0.3618 - val_loss: 2.7878 - val_accuracy: 0.2877\n",
            "Epoch 4/30\n",
            "88/88 [==============================] - 29s 332ms/step - loss: 1.3331 - accuracy: 0.3675 - val_loss: 1.2288 - val_accuracy: 0.3846\n",
            "Epoch 5/30\n",
            "88/88 [==============================] - 29s 330ms/step - loss: 1.2836 - accuracy: 0.3846 - val_loss: 1.3128 - val_accuracy: 0.3761\n",
            "Epoch 6/30\n",
            "88/88 [==============================] - 29s 329ms/step - loss: 1.2489 - accuracy: 0.4530 - val_loss: 1.3061 - val_accuracy: 0.4387\n",
            "Epoch 7/30\n",
            "88/88 [==============================] - 29s 327ms/step - loss: 1.1878 - accuracy: 0.4843 - val_loss: 1.0498 - val_accuracy: 0.5470\n",
            "Epoch 8/30\n",
            "88/88 [==============================] - 29s 329ms/step - loss: 1.1037 - accuracy: 0.5499 - val_loss: 0.9892 - val_accuracy: 0.5926\n",
            "Epoch 9/30\n",
            "88/88 [==============================] - 29s 328ms/step - loss: 1.0328 - accuracy: 0.5556 - val_loss: 0.8471 - val_accuracy: 0.6695\n",
            "Epoch 10/30\n",
            "88/88 [==============================] - 29s 329ms/step - loss: 1.0094 - accuracy: 0.5983 - val_loss: 0.9276 - val_accuracy: 0.6040\n",
            "Epoch 11/30\n",
            "88/88 [==============================] - 29s 329ms/step - loss: 1.0067 - accuracy: 0.5698 - val_loss: 0.7917 - val_accuracy: 0.6923\n",
            "Epoch 12/30\n",
            "88/88 [==============================] - 29s 334ms/step - loss: 0.8973 - accuracy: 0.6182 - val_loss: 0.7650 - val_accuracy: 0.6667\n",
            "Epoch 13/30\n",
            "88/88 [==============================] - 29s 329ms/step - loss: 0.8633 - accuracy: 0.6496 - val_loss: 0.6738 - val_accuracy: 0.7350\n",
            "Epoch 14/30\n",
            "88/88 [==============================] - 29s 332ms/step - loss: 0.9213 - accuracy: 0.6382 - val_loss: 0.6607 - val_accuracy: 0.7493\n",
            "Epoch 15/30\n",
            "88/88 [==============================] - 29s 335ms/step - loss: 0.7878 - accuracy: 0.6809 - val_loss: 0.5637 - val_accuracy: 0.7806\n",
            "Epoch 16/30\n",
            "88/88 [==============================] - 29s 334ms/step - loss: 0.7289 - accuracy: 0.6838 - val_loss: 0.7347 - val_accuracy: 0.7265\n",
            "Epoch 17/30\n",
            "88/88 [==============================] - 29s 332ms/step - loss: 0.6452 - accuracy: 0.7721 - val_loss: 0.4995 - val_accuracy: 0.8205\n",
            "Epoch 18/30\n",
            "88/88 [==============================] - 29s 334ms/step - loss: 0.6575 - accuracy: 0.7635 - val_loss: 0.4820 - val_accuracy: 0.8063\n",
            "Epoch 19/30\n",
            "88/88 [==============================] - 33s 381ms/step - loss: 0.6699 - accuracy: 0.7521 - val_loss: 0.4645 - val_accuracy: 0.8120\n",
            "Epoch 20/30\n",
            "88/88 [==============================] - 30s 347ms/step - loss: 0.5498 - accuracy: 0.7607 - val_loss: 0.4981 - val_accuracy: 0.8034\n",
            "Epoch 21/30\n",
            "88/88 [==============================] - 30s 340ms/step - loss: 0.5657 - accuracy: 0.7749 - val_loss: 0.5420 - val_accuracy: 0.8376\n",
            "Epoch 22/30\n",
            "88/88 [==============================] - 30s 343ms/step - loss: 0.6539 - accuracy: 0.7806 - val_loss: 0.4030 - val_accuracy: 0.8547\n",
            "Epoch 23/30\n",
            "88/88 [==============================] - 30s 339ms/step - loss: 0.4870 - accuracy: 0.8262 - val_loss: 0.3904 - val_accuracy: 0.8661\n",
            "Epoch 24/30\n",
            "88/88 [==============================] - 30s 340ms/step - loss: 0.5627 - accuracy: 0.7749 - val_loss: 0.3789 - val_accuracy: 0.8462\n",
            "Epoch 25/30\n",
            "88/88 [==============================] - 30s 337ms/step - loss: 0.5058 - accuracy: 0.7721 - val_loss: 0.3340 - val_accuracy: 0.8689\n",
            "Epoch 26/30\n",
            "88/88 [==============================] - 29s 334ms/step - loss: 0.5004 - accuracy: 0.7977 - val_loss: 0.4242 - val_accuracy: 0.8348\n",
            "Epoch 27/30\n",
            "88/88 [==============================] - 30s 336ms/step - loss: 0.4123 - accuracy: 0.8291 - val_loss: 0.3294 - val_accuracy: 0.8860\n",
            "Epoch 28/30\n",
            "88/88 [==============================] - 29s 333ms/step - loss: 0.4432 - accuracy: 0.8205 - val_loss: 0.2894 - val_accuracy: 0.9003\n",
            "Epoch 29/30\n",
            "88/88 [==============================] - 29s 335ms/step - loss: 0.4293 - accuracy: 0.8234 - val_loss: 0.2763 - val_accuracy: 0.9031\n",
            "Epoch 30/30\n",
            "88/88 [==============================] - 30s 341ms/step - loss: 0.4415 - accuracy: 0.8319 - val_loss: 0.3472 - val_accuracy: 0.8689\n"
          ]
        },
        {
          "output_type": "execute_result",
          "data": {
            "text/plain": [
              "<keras.callbacks.History at 0x7f48501e6130>"
            ]
          },
          "metadata": {},
          "execution_count": 19
        }
      ],
      "source": [
        "#training the model \n",
        "model.fit_generator(X_train,validation_data=X_test,epochs=30)"
      ]
    },
    {
      "cell_type": "code",
      "execution_count": 27,
      "metadata": {
        "id": "4zuvALrq-zI3"
      },
      "outputs": [],
      "source": [
        "#saving the model\n",
        "model.save('coal.h5')"
      ]
    },
    {
      "cell_type": "code",
      "execution_count": 24,
      "metadata": {
        "id": "gucJ0VTd6VMN"
      },
      "outputs": [],
      "source": [
        "import numpy as np\n"
      ]
    },
    {
      "cell_type": "code",
      "execution_count": 25,
      "metadata": {
        "id": "ETRs_11Z6Zi1"
      },
      "outputs": [],
      "source": [
        "#testing the model\n",
        "from tensorflow.keras.preprocessing import image"
      ]
    },
    {
      "cell_type": "code",
      "execution_count": 75,
      "metadata": {
        "id": "alQD4Dc36Zfc"
      },
      "outputs": [],
      "source": [
        "from tensorflow.keras.models import load_model\n",
        "model.load_weights('coal.h5')"
      ]
    },
    {
      "cell_type": "code",
      "execution_count": 110,
      "metadata": {
        "id": "R_IAyaOg6ZdY",
        "colab": {
          "base_uri": "https://localhost:8080/"
        },
        "outputId": "f1375a99-2eec-47e8-f8d5-64b7ec174e1b"
      },
      "outputs": [
        {
          "output_type": "execute_result",
          "data": {
            "text/plain": [
              "(128, 128, 3)"
            ]
          },
          "metadata": {},
          "execution_count": 110
        }
      ],
      "source": [
        "img=image.load_img(\"/content/5.jpg\",target_size=(128,128))\n",
        "x=image.img_to_array(img)\n",
        "x.shape"
      ]
    },
    {
      "cell_type": "code",
      "source": [
        "img"
      ],
      "metadata": {
        "colab": {
          "base_uri": "https://localhost:8080/",
          "height": 145
        },
        "id": "FWCLGbHSdGsv",
        "outputId": "5b3b721d-70dd-484a-fb23-8cd8c9a32627"
      },
      "execution_count": 111,
      "outputs": [
        {
          "output_type": "execute_result",
          "data": {
            "text/plain": [
              "<PIL.Image.Image image mode=RGB size=128x128 at 0x7F48486C00D0>"
            ],
            "image/png": "[encoded data removed]"
          },
          "metadata": {},
          "execution_count": 111
        }
      ]
    },
    {
      "cell_type": "code",
      "execution_count": 112,
      "metadata": {
        "id": "K4gTPRGG6ZbT",
        "colab": {
          "base_uri": "https://localhost:8080/"
        },
        "outputId": "b346e563-9ca2-4969-b79d-acb3f3b14e4f"
      },
      "outputs": [
        {
          "output_type": "execute_result",
          "data": {
            "text/plain": [
              "(1, 128, 128, 3)"
            ]
          },
          "metadata": {},
          "execution_count": 112
        }
      ],
      "source": [
        "x=np.expand_dims(x,axis=0)\n",
        "x.shape"
      ]
    },
    {
      "cell_type": "code",
      "execution_count": 113,
      "metadata": {
        "id": "PdFpAKs46ZZh",
        "colab": {
          "base_uri": "https://localhost:8080/"
        },
        "outputId": "1190dde1-b7cd-4bfc-a12f-4c61263490d1"
      },
      "outputs": [
        {
          "output_type": "stream",
          "name": "stdout",
          "text": [
            "1/1 [==============================] - 0s 53ms/step\n"
          ]
        },
        {
          "output_type": "execute_result",
          "data": {
            "text/plain": [
              "array([[0., 1., 0., 0.]], dtype=float32)"
            ]
          },
          "metadata": {},
          "execution_count": 113
        }
      ],
      "source": [
        "prediction=model.predict(x)\n",
        "prediction"
      ]
    },
    {
      "cell_type": "code",
      "execution_count": 114,
      "metadata": {
        "id": "eEGlowFp6ZXE"
      },
      "outputs": [],
      "source": [
        "index=[\"Anthracite\",\"Bituminous\",\"Lignite\",\"Peat\"]"
      ]
    },
    {
      "cell_type": "code",
      "execution_count": 115,
      "metadata": {
        "id": "ZWF0sFIO6ZUv",
        "colab": {
          "base_uri": "https://localhost:8080/",
          "height": 35
        },
        "outputId": "14591022-f975-4955-d4dd-8adde0e1d17c"
      },
      "outputs": [
        {
          "output_type": "execute_result",
          "data": {
            "text/plain": [
              "'Bituminous'"
            ],
            "application/vnd.google.colaboratory.intrinsic+json": {
              "type": "string"
            }
          },
          "metadata": {},
          "execution_count": 115
        }
      ],
      "source": [
        "result=str(index[prediction[0].tolist().index(1)])\n",
        "result"
      ]
    },
    {
      "cell_type": "code",
      "execution_count": null,
      "metadata": {
        "id": "daf38Od6-EYr"
      },
      "outputs": [],
      "source": []
    }
  ],
  "metadata": {
    "colab": {
      "provenance": []
    },
    "kernelspec": {
      "display_name": "Python 3",
      "language": "python",
      "name": "python3"
    },
    "language_info": {
      "codemirror_mode": {
        "name": "ipython",
        "version": 3
      },
      "file_extension": ".py",
      "mimetype": "text/x-python",
      "name": "python",
      "nbconvert_exporter": "python",
      "pygments_lexer": "ipython3",
      "version": "3.8.8"
    }
  },
  "nbformat": 4,
  "nbformat_minor": 0
}